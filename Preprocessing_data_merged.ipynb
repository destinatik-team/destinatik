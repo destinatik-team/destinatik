{
 "cells": [
  {
   "cell_type": "markdown",
   "metadata": {},
   "source": [
    "# Destinatik: Pre-processing Data"
   ]
  },
  {
   "cell_type": "markdown",
   "metadata": {},
   "source": [
    "## Import Library"
   ]
  },
  {
   "cell_type": "code",
   "execution_count": 1,
   "metadata": {},
   "outputs": [],
   "source": [
    "import numpy as np\n",
    "import pandas as pd\n",
    "import matplotlib.pyplot as plt\n",
    "import seaborn as sns\n",
    "\n",
    "import urllib.request\n",
    "import os"
   ]
  },
  {
   "cell_type": "markdown",
   "metadata": {},
   "source": [
    "# Data Wrangling:\n",
    "### Data Gathering"
   ]
  },
  {
   "cell_type": "code",
   "execution_count": 2,
   "metadata": {},
   "outputs": [],
   "source": [
    "# download the zipped dataset to the data directory\n",
    "# package_url = \"https://storage.googleapis.com/kagglesdsdata/datasets/1481754/2448367/package_tourism.csv\"\n",
    "# rating_url = \"https://storage.googleapis.com/kagglesdsdata/datasets/1481754/2448367/tourism_rating.csv\"\n",
    "# tourId_url = \"https://storage.googleapis.com/kagglesdsdata/datasets/1481754/2448367/tourism_with_id.csv\"\n",
    "# user_url = \"https://storage.googleapis.com/kagglesdsdata/datasets/1481754/2448367/user.csv\"\n",
    "\n",
    "# download_dir = './datasets/'\n",
    "# download_list = [package_url, rating_url, tourId_url, user_url]\n",
    "\n",
    "# for data_url in download_list:\n",
    "#     urllib.request.urlretrieve(data_url)"
   ]
  },
  {
   "cell_type": "code",
   "execution_count": 3,
   "metadata": {},
   "outputs": [],
   "source": [
    "package_file = './datasets/package_tourism.csv'\n",
    "rating_file = './datasets/tourism_rating.csv'\n",
    "tourId_file = './datasets/tourism_with_id.csv'\n",
    "user_file = './datasets/user.csv'\n",
    "\n",
    "package_df = pd.read_csv(package_file)\n",
    "rating_df = pd.read_csv(rating_file)\n",
    "tourId_df = pd.read_csv(tourId_file)\n",
    "user_df = pd.read_csv(user_file)"
   ]
  },
  {
   "cell_type": "markdown",
   "metadata": {},
   "source": [
    "Dataset Link: https://www.kaggle.com/datasets/aprabowo/indonesia-tourism-destination/data\n",
    "\n",
    "Use This code if you're using Google Colab."
   ]
  },
  {
   "cell_type": "code",
   "execution_count": 4,
   "metadata": {},
   "outputs": [],
   "source": [
    "# from google.colab import files\n",
    "# uploaded = files.upload()\n",
    "\n",
    "# package_gfile = 'package_tourism.csv'\n",
    "# rating_gfile = 'tourism_rating.csv'\n",
    "# tourId_gfile = 'tourism_with_id.csv'\n",
    "# user_gfile = 'user.csv'\n",
    "\n",
    "# package_df = pd.read_csv(package_gfile)\n",
    "# rating_df = pd.read_csv(rating_gfile)\n",
    "# tourId_df = pd.read_csv(tourId_gfile)\n",
    "# user_df = pd.read_csv(user_gfile)"
   ]
  },
  {
   "cell_type": "markdown",
   "metadata": {},
   "source": [
    "# Data Wrangling:\n",
    "### Assessing Data"
   ]
  },
  {
   "cell_type": "code",
   "execution_count": 5,
   "metadata": {},
   "outputs": [
    {
     "data": {
      "text/html": [
       "<div>\n",
       "<style scoped>\n",
       "    .dataframe tbody tr th:only-of-type {\n",
       "        vertical-align: middle;\n",
       "    }\n",
       "\n",
       "    .dataframe tbody tr th {\n",
       "        vertical-align: top;\n",
       "    }\n",
       "\n",
       "    .dataframe thead th {\n",
       "        text-align: right;\n",
       "    }\n",
       "</style>\n",
       "<table border=\"1\" class=\"dataframe\">\n",
       "  <thead>\n",
       "    <tr style=\"text-align: right;\">\n",
       "      <th></th>\n",
       "      <th>Package</th>\n",
       "      <th>City</th>\n",
       "      <th>Place_Tourism1</th>\n",
       "      <th>Place_Tourism2</th>\n",
       "      <th>Place_Tourism3</th>\n",
       "      <th>Place_Tourism4</th>\n",
       "      <th>Place_Tourism5</th>\n",
       "    </tr>\n",
       "  </thead>\n",
       "  <tbody>\n",
       "    <tr>\n",
       "      <th>0</th>\n",
       "      <td>1</td>\n",
       "      <td>Jakarta</td>\n",
       "      <td>Pasar Tanah Abang</td>\n",
       "      <td>Taman Ayodya</td>\n",
       "      <td>Museum Tekstil</td>\n",
       "      <td>NaN</td>\n",
       "      <td>NaN</td>\n",
       "    </tr>\n",
       "    <tr>\n",
       "      <th>1</th>\n",
       "      <td>2</td>\n",
       "      <td>Jakarta</td>\n",
       "      <td>Pasar Tanah Abang</td>\n",
       "      <td>Pasar Taman Puring</td>\n",
       "      <td>Pasar Petak Sembilan</td>\n",
       "      <td>NaN</td>\n",
       "      <td>NaN</td>\n",
       "    </tr>\n",
       "    <tr>\n",
       "      <th>2</th>\n",
       "      <td>3</td>\n",
       "      <td>Jakarta</td>\n",
       "      <td>Perpustakaan Nasional</td>\n",
       "      <td>Monas</td>\n",
       "      <td>Masjid Istiqlal</td>\n",
       "      <td>NaN</td>\n",
       "      <td>NaN</td>\n",
       "    </tr>\n",
       "    <tr>\n",
       "      <th>3</th>\n",
       "      <td>4</td>\n",
       "      <td>Jakarta</td>\n",
       "      <td>Pulau Tidung</td>\n",
       "      <td>Pulau Bidadari</td>\n",
       "      <td>Pulau Pari</td>\n",
       "      <td>Pulau Pramuka</td>\n",
       "      <td>Pulau Pelangi</td>\n",
       "    </tr>\n",
       "    <tr>\n",
       "      <th>4</th>\n",
       "      <td>5</td>\n",
       "      <td>Jakarta</td>\n",
       "      <td>Museum Satria Mandala</td>\n",
       "      <td>Museum Wayang</td>\n",
       "      <td>Museum Bahari Jakarta</td>\n",
       "      <td>Museum Macan (Modern and Contemporary Art in N...</td>\n",
       "      <td>NaN</td>\n",
       "    </tr>\n",
       "  </tbody>\n",
       "</table>\n",
       "</div>"
      ],
      "text/plain": [
       "   Package     City         Place_Tourism1      Place_Tourism2  \\\n",
       "0        1  Jakarta      Pasar Tanah Abang        Taman Ayodya   \n",
       "1        2  Jakarta      Pasar Tanah Abang  Pasar Taman Puring   \n",
       "2        3  Jakarta  Perpustakaan Nasional               Monas   \n",
       "3        4  Jakarta           Pulau Tidung      Pulau Bidadari   \n",
       "4        5  Jakarta  Museum Satria Mandala       Museum Wayang   \n",
       "\n",
       "          Place_Tourism3                                     Place_Tourism4  \\\n",
       "0         Museum Tekstil                                                NaN   \n",
       "1   Pasar Petak Sembilan                                                NaN   \n",
       "2        Masjid Istiqlal                                                NaN   \n",
       "3             Pulau Pari                                      Pulau Pramuka   \n",
       "4  Museum Bahari Jakarta  Museum Macan (Modern and Contemporary Art in N...   \n",
       "\n",
       "  Place_Tourism5  \n",
       "0            NaN  \n",
       "1            NaN  \n",
       "2            NaN  \n",
       "3  Pulau Pelangi  \n",
       "4            NaN  "
      ]
     },
     "execution_count": 5,
     "metadata": {},
     "output_type": "execute_result"
    }
   ],
   "source": [
    "package_df.head()"
   ]
  },
  {
   "cell_type": "code",
   "execution_count": 6,
   "metadata": {},
   "outputs": [
    {
     "name": "stdout",
     "output_type": "stream",
     "text": [
      "<class 'pandas.core.frame.DataFrame'>\n",
      "RangeIndex: 100 entries, 0 to 99\n",
      "Data columns (total 7 columns):\n",
      " #   Column          Non-Null Count  Dtype \n",
      "---  ------          --------------  ----- \n",
      " 0   Package         100 non-null    int64 \n",
      " 1   City            100 non-null    object\n",
      " 2   Place_Tourism1  100 non-null    object\n",
      " 3   Place_Tourism2  100 non-null    object\n",
      " 4   Place_Tourism3  100 non-null    object\n",
      " 5   Place_Tourism4  66 non-null     object\n",
      " 6   Place_Tourism5  39 non-null     object\n",
      "dtypes: int64(1), object(6)\n",
      "memory usage: 5.6+ KB\n"
     ]
    }
   ],
   "source": [
    "package_df.info()"
   ]
  },
  {
   "cell_type": "markdown",
   "metadata": {},
   "source": [
    "Checking missing value in package_df"
   ]
  },
  {
   "cell_type": "code",
   "execution_count": 7,
   "metadata": {},
   "outputs": [
    {
     "data": {
      "text/plain": [
       "Package            0\n",
       "City               0\n",
       "Place_Tourism1     0\n",
       "Place_Tourism2     0\n",
       "Place_Tourism3     0\n",
       "Place_Tourism4    34\n",
       "Place_Tourism5    61\n",
       "dtype: int64"
      ]
     },
     "execution_count": 7,
     "metadata": {},
     "output_type": "execute_result"
    }
   ],
   "source": [
    "package_df.isna().sum()"
   ]
  },
  {
   "cell_type": "code",
   "execution_count": 8,
   "metadata": {},
   "outputs": [
    {
     "data": {
      "text/html": [
       "<div>\n",
       "<style scoped>\n",
       "    .dataframe tbody tr th:only-of-type {\n",
       "        vertical-align: middle;\n",
       "    }\n",
       "\n",
       "    .dataframe tbody tr th {\n",
       "        vertical-align: top;\n",
       "    }\n",
       "\n",
       "    .dataframe thead th {\n",
       "        text-align: right;\n",
       "    }\n",
       "</style>\n",
       "<table border=\"1\" class=\"dataframe\">\n",
       "  <thead>\n",
       "    <tr style=\"text-align: right;\">\n",
       "      <th></th>\n",
       "      <th>User_Id</th>\n",
       "      <th>Place_Id</th>\n",
       "      <th>Place_Ratings</th>\n",
       "    </tr>\n",
       "  </thead>\n",
       "  <tbody>\n",
       "    <tr>\n",
       "      <th>0</th>\n",
       "      <td>1</td>\n",
       "      <td>179</td>\n",
       "      <td>3</td>\n",
       "    </tr>\n",
       "    <tr>\n",
       "      <th>1</th>\n",
       "      <td>1</td>\n",
       "      <td>344</td>\n",
       "      <td>2</td>\n",
       "    </tr>\n",
       "    <tr>\n",
       "      <th>2</th>\n",
       "      <td>1</td>\n",
       "      <td>5</td>\n",
       "      <td>5</td>\n",
       "    </tr>\n",
       "    <tr>\n",
       "      <th>3</th>\n",
       "      <td>1</td>\n",
       "      <td>373</td>\n",
       "      <td>3</td>\n",
       "    </tr>\n",
       "    <tr>\n",
       "      <th>4</th>\n",
       "      <td>1</td>\n",
       "      <td>101</td>\n",
       "      <td>4</td>\n",
       "    </tr>\n",
       "  </tbody>\n",
       "</table>\n",
       "</div>"
      ],
      "text/plain": [
       "   User_Id  Place_Id  Place_Ratings\n",
       "0        1       179              3\n",
       "1        1       344              2\n",
       "2        1         5              5\n",
       "3        1       373              3\n",
       "4        1       101              4"
      ]
     },
     "execution_count": 8,
     "metadata": {},
     "output_type": "execute_result"
    }
   ],
   "source": [
    "rating_df.head()"
   ]
  },
  {
   "cell_type": "code",
   "execution_count": 9,
   "metadata": {},
   "outputs": [
    {
     "name": "stdout",
     "output_type": "stream",
     "text": [
      "<class 'pandas.core.frame.DataFrame'>\n",
      "RangeIndex: 10000 entries, 0 to 9999\n",
      "Data columns (total 3 columns):\n",
      " #   Column         Non-Null Count  Dtype\n",
      "---  ------         --------------  -----\n",
      " 0   User_Id        10000 non-null  int64\n",
      " 1   Place_Id       10000 non-null  int64\n",
      " 2   Place_Ratings  10000 non-null  int64\n",
      "dtypes: int64(3)\n",
      "memory usage: 234.5 KB\n"
     ]
    }
   ],
   "source": [
    "rating_df.info()"
   ]
  },
  {
   "cell_type": "markdown",
   "metadata": {},
   "source": [
    "Checking missing value in rating_df"
   ]
  },
  {
   "cell_type": "code",
   "execution_count": 10,
   "metadata": {},
   "outputs": [
    {
     "data": {
      "text/plain": [
       "User_Id          0\n",
       "Place_Id         0\n",
       "Place_Ratings    0\n",
       "dtype: int64"
      ]
     },
     "execution_count": 10,
     "metadata": {},
     "output_type": "execute_result"
    }
   ],
   "source": [
    "rating_df.isna().sum()"
   ]
  },
  {
   "cell_type": "code",
   "execution_count": 11,
   "metadata": {},
   "outputs": [
    {
     "name": "stdout",
     "output_type": "stream",
     "text": [
      "Jumlah duplikasi:  79\n"
     ]
    },
    {
     "data": {
      "text/html": [
       "<div>\n",
       "<style scoped>\n",
       "    .dataframe tbody tr th:only-of-type {\n",
       "        vertical-align: middle;\n",
       "    }\n",
       "\n",
       "    .dataframe tbody tr th {\n",
       "        vertical-align: top;\n",
       "    }\n",
       "\n",
       "    .dataframe thead th {\n",
       "        text-align: right;\n",
       "    }\n",
       "</style>\n",
       "<table border=\"1\" class=\"dataframe\">\n",
       "  <thead>\n",
       "    <tr style=\"text-align: right;\">\n",
       "      <th></th>\n",
       "      <th>User_Id</th>\n",
       "      <th>Place_Id</th>\n",
       "      <th>Place_Ratings</th>\n",
       "    </tr>\n",
       "  </thead>\n",
       "  <tbody>\n",
       "    <tr>\n",
       "      <th>count</th>\n",
       "      <td>10000.000000</td>\n",
       "      <td>10000.000000</td>\n",
       "      <td>10000.000000</td>\n",
       "    </tr>\n",
       "    <tr>\n",
       "      <th>mean</th>\n",
       "      <td>151.292700</td>\n",
       "      <td>219.416400</td>\n",
       "      <td>3.066500</td>\n",
       "    </tr>\n",
       "    <tr>\n",
       "      <th>std</th>\n",
       "      <td>86.137374</td>\n",
       "      <td>126.228335</td>\n",
       "      <td>1.379952</td>\n",
       "    </tr>\n",
       "    <tr>\n",
       "      <th>min</th>\n",
       "      <td>1.000000</td>\n",
       "      <td>1.000000</td>\n",
       "      <td>1.000000</td>\n",
       "    </tr>\n",
       "    <tr>\n",
       "      <th>25%</th>\n",
       "      <td>77.000000</td>\n",
       "      <td>108.750000</td>\n",
       "      <td>2.000000</td>\n",
       "    </tr>\n",
       "    <tr>\n",
       "      <th>50%</th>\n",
       "      <td>151.000000</td>\n",
       "      <td>220.000000</td>\n",
       "      <td>3.000000</td>\n",
       "    </tr>\n",
       "    <tr>\n",
       "      <th>75%</th>\n",
       "      <td>226.000000</td>\n",
       "      <td>329.000000</td>\n",
       "      <td>4.000000</td>\n",
       "    </tr>\n",
       "    <tr>\n",
       "      <th>max</th>\n",
       "      <td>300.000000</td>\n",
       "      <td>437.000000</td>\n",
       "      <td>5.000000</td>\n",
       "    </tr>\n",
       "  </tbody>\n",
       "</table>\n",
       "</div>"
      ],
      "text/plain": [
       "            User_Id      Place_Id  Place_Ratings\n",
       "count  10000.000000  10000.000000   10000.000000\n",
       "mean     151.292700    219.416400       3.066500\n",
       "std       86.137374    126.228335       1.379952\n",
       "min        1.000000      1.000000       1.000000\n",
       "25%       77.000000    108.750000       2.000000\n",
       "50%      151.000000    220.000000       3.000000\n",
       "75%      226.000000    329.000000       4.000000\n",
       "max      300.000000    437.000000       5.000000"
      ]
     },
     "execution_count": 11,
     "metadata": {},
     "output_type": "execute_result"
    }
   ],
   "source": [
    "print(\"Jumlah duplikasi: \", rating_df.duplicated().sum())\n",
    "rating_df.describe()\n",
    "\n",
    "#duplicated file is okay, since it was rating (it can be used with median)"
   ]
  },
  {
   "cell_type": "code",
   "execution_count": 12,
   "metadata": {},
   "outputs": [
    {
     "data": {
      "text/html": [
       "<div>\n",
       "<style scoped>\n",
       "    .dataframe tbody tr th:only-of-type {\n",
       "        vertical-align: middle;\n",
       "    }\n",
       "\n",
       "    .dataframe tbody tr th {\n",
       "        vertical-align: top;\n",
       "    }\n",
       "\n",
       "    .dataframe thead th {\n",
       "        text-align: right;\n",
       "    }\n",
       "</style>\n",
       "<table border=\"1\" class=\"dataframe\">\n",
       "  <thead>\n",
       "    <tr style=\"text-align: right;\">\n",
       "      <th></th>\n",
       "      <th>Place_Id</th>\n",
       "      <th>Place_Name</th>\n",
       "      <th>Description</th>\n",
       "      <th>Category</th>\n",
       "      <th>City</th>\n",
       "      <th>Price</th>\n",
       "      <th>Rating</th>\n",
       "      <th>Time_Minutes</th>\n",
       "      <th>Coordinate</th>\n",
       "      <th>Lat</th>\n",
       "      <th>Long</th>\n",
       "      <th>Unnamed: 11</th>\n",
       "      <th>Unnamed: 12</th>\n",
       "    </tr>\n",
       "  </thead>\n",
       "  <tbody>\n",
       "    <tr>\n",
       "      <th>0</th>\n",
       "      <td>1</td>\n",
       "      <td>Monumen Nasional</td>\n",
       "      <td>Monumen Nasional atau yang populer disingkat d...</td>\n",
       "      <td>Budaya</td>\n",
       "      <td>Jakarta</td>\n",
       "      <td>20000</td>\n",
       "      <td>4.6</td>\n",
       "      <td>15.0</td>\n",
       "      <td>{'lat': -6.1753924, 'lng': 106.8271528}</td>\n",
       "      <td>-6.175392</td>\n",
       "      <td>106.827153</td>\n",
       "      <td>NaN</td>\n",
       "      <td>1</td>\n",
       "    </tr>\n",
       "    <tr>\n",
       "      <th>1</th>\n",
       "      <td>2</td>\n",
       "      <td>Kota Tua</td>\n",
       "      <td>Kota tua di Jakarta, yang juga bernama Kota Tu...</td>\n",
       "      <td>Budaya</td>\n",
       "      <td>Jakarta</td>\n",
       "      <td>0</td>\n",
       "      <td>4.6</td>\n",
       "      <td>90.0</td>\n",
       "      <td>{'lat': -6.137644799999999, 'lng': 106.8171245}</td>\n",
       "      <td>-6.137645</td>\n",
       "      <td>106.817125</td>\n",
       "      <td>NaN</td>\n",
       "      <td>2</td>\n",
       "    </tr>\n",
       "    <tr>\n",
       "      <th>2</th>\n",
       "      <td>3</td>\n",
       "      <td>Dunia Fantasi</td>\n",
       "      <td>Dunia Fantasi atau disebut juga Dufan adalah t...</td>\n",
       "      <td>Taman Hiburan</td>\n",
       "      <td>Jakarta</td>\n",
       "      <td>270000</td>\n",
       "      <td>4.6</td>\n",
       "      <td>360.0</td>\n",
       "      <td>{'lat': -6.125312399999999, 'lng': 106.8335377}</td>\n",
       "      <td>-6.125312</td>\n",
       "      <td>106.833538</td>\n",
       "      <td>NaN</td>\n",
       "      <td>3</td>\n",
       "    </tr>\n",
       "    <tr>\n",
       "      <th>3</th>\n",
       "      <td>4</td>\n",
       "      <td>Taman Mini Indonesia Indah (TMII)</td>\n",
       "      <td>Taman Mini Indonesia Indah merupakan suatu kaw...</td>\n",
       "      <td>Taman Hiburan</td>\n",
       "      <td>Jakarta</td>\n",
       "      <td>10000</td>\n",
       "      <td>4.5</td>\n",
       "      <td>NaN</td>\n",
       "      <td>{'lat': -6.302445899999999, 'lng': 106.8951559}</td>\n",
       "      <td>-6.302446</td>\n",
       "      <td>106.895156</td>\n",
       "      <td>NaN</td>\n",
       "      <td>4</td>\n",
       "    </tr>\n",
       "    <tr>\n",
       "      <th>4</th>\n",
       "      <td>5</td>\n",
       "      <td>Atlantis Water Adventure</td>\n",
       "      <td>Atlantis Water Adventure atau dikenal dengan A...</td>\n",
       "      <td>Taman Hiburan</td>\n",
       "      <td>Jakarta</td>\n",
       "      <td>94000</td>\n",
       "      <td>4.5</td>\n",
       "      <td>60.0</td>\n",
       "      <td>{'lat': -6.12419, 'lng': 106.839134}</td>\n",
       "      <td>-6.124190</td>\n",
       "      <td>106.839134</td>\n",
       "      <td>NaN</td>\n",
       "      <td>5</td>\n",
       "    </tr>\n",
       "  </tbody>\n",
       "</table>\n",
       "</div>"
      ],
      "text/plain": [
       "   Place_Id                         Place_Name  \\\n",
       "0         1                   Monumen Nasional   \n",
       "1         2                           Kota Tua   \n",
       "2         3                      Dunia Fantasi   \n",
       "3         4  Taman Mini Indonesia Indah (TMII)   \n",
       "4         5           Atlantis Water Adventure   \n",
       "\n",
       "                                         Description       Category     City  \\\n",
       "0  Monumen Nasional atau yang populer disingkat d...         Budaya  Jakarta   \n",
       "1  Kota tua di Jakarta, yang juga bernama Kota Tu...         Budaya  Jakarta   \n",
       "2  Dunia Fantasi atau disebut juga Dufan adalah t...  Taman Hiburan  Jakarta   \n",
       "3  Taman Mini Indonesia Indah merupakan suatu kaw...  Taman Hiburan  Jakarta   \n",
       "4  Atlantis Water Adventure atau dikenal dengan A...  Taman Hiburan  Jakarta   \n",
       "\n",
       "    Price  Rating  Time_Minutes  \\\n",
       "0   20000     4.6          15.0   \n",
       "1       0     4.6          90.0   \n",
       "2  270000     4.6         360.0   \n",
       "3   10000     4.5           NaN   \n",
       "4   94000     4.5          60.0   \n",
       "\n",
       "                                        Coordinate       Lat        Long  \\\n",
       "0          {'lat': -6.1753924, 'lng': 106.8271528} -6.175392  106.827153   \n",
       "1  {'lat': -6.137644799999999, 'lng': 106.8171245} -6.137645  106.817125   \n",
       "2  {'lat': -6.125312399999999, 'lng': 106.8335377} -6.125312  106.833538   \n",
       "3  {'lat': -6.302445899999999, 'lng': 106.8951559} -6.302446  106.895156   \n",
       "4             {'lat': -6.12419, 'lng': 106.839134} -6.124190  106.839134   \n",
       "\n",
       "   Unnamed: 11  Unnamed: 12  \n",
       "0          NaN            1  \n",
       "1          NaN            2  \n",
       "2          NaN            3  \n",
       "3          NaN            4  \n",
       "4          NaN            5  "
      ]
     },
     "execution_count": 12,
     "metadata": {},
     "output_type": "execute_result"
    }
   ],
   "source": [
    "tourId_df.head()"
   ]
  },
  {
   "cell_type": "code",
   "execution_count": 13,
   "metadata": {},
   "outputs": [
    {
     "name": "stdout",
     "output_type": "stream",
     "text": [
      "<class 'pandas.core.frame.DataFrame'>\n",
      "RangeIndex: 437 entries, 0 to 436\n",
      "Data columns (total 13 columns):\n",
      " #   Column        Non-Null Count  Dtype  \n",
      "---  ------        --------------  -----  \n",
      " 0   Place_Id      437 non-null    int64  \n",
      " 1   Place_Name    437 non-null    object \n",
      " 2   Description   437 non-null    object \n",
      " 3   Category      437 non-null    object \n",
      " 4   City          437 non-null    object \n",
      " 5   Price         437 non-null    int64  \n",
      " 6   Rating        437 non-null    float64\n",
      " 7   Time_Minutes  205 non-null    float64\n",
      " 8   Coordinate    437 non-null    object \n",
      " 9   Lat           437 non-null    float64\n",
      " 10  Long          437 non-null    float64\n",
      " 11  Unnamed: 11   0 non-null      float64\n",
      " 12  Unnamed: 12   437 non-null    int64  \n",
      "dtypes: float64(5), int64(3), object(5)\n",
      "memory usage: 44.5+ KB\n"
     ]
    }
   ],
   "source": [
    "tourId_df.info()"
   ]
  },
  {
   "cell_type": "markdown",
   "metadata": {},
   "source": [
    "Checking missing value in tourId_df"
   ]
  },
  {
   "cell_type": "code",
   "execution_count": 14,
   "metadata": {},
   "outputs": [
    {
     "data": {
      "text/plain": [
       "Place_Id          0\n",
       "Place_Name        0\n",
       "Description       0\n",
       "Category          0\n",
       "City              0\n",
       "Price             0\n",
       "Rating            0\n",
       "Time_Minutes    232\n",
       "Coordinate        0\n",
       "Lat               0\n",
       "Long              0\n",
       "Unnamed: 11     437\n",
       "Unnamed: 12       0\n",
       "dtype: int64"
      ]
     },
     "execution_count": 14,
     "metadata": {},
     "output_type": "execute_result"
    }
   ],
   "source": [
    "tourId_df.isna().sum()"
   ]
  },
  {
   "cell_type": "code",
   "execution_count": 15,
   "metadata": {},
   "outputs": [
    {
     "name": "stdout",
     "output_type": "stream",
     "text": [
      "Jumlah duplikasi:  0\n"
     ]
    },
    {
     "data": {
      "text/html": [
       "<div>\n",
       "<style scoped>\n",
       "    .dataframe tbody tr th:only-of-type {\n",
       "        vertical-align: middle;\n",
       "    }\n",
       "\n",
       "    .dataframe tbody tr th {\n",
       "        vertical-align: top;\n",
       "    }\n",
       "\n",
       "    .dataframe thead th {\n",
       "        text-align: right;\n",
       "    }\n",
       "</style>\n",
       "<table border=\"1\" class=\"dataframe\">\n",
       "  <thead>\n",
       "    <tr style=\"text-align: right;\">\n",
       "      <th></th>\n",
       "      <th>Place_Id</th>\n",
       "      <th>Price</th>\n",
       "      <th>Rating</th>\n",
       "      <th>Time_Minutes</th>\n",
       "      <th>Lat</th>\n",
       "      <th>Long</th>\n",
       "      <th>Unnamed: 11</th>\n",
       "      <th>Unnamed: 12</th>\n",
       "    </tr>\n",
       "  </thead>\n",
       "  <tbody>\n",
       "    <tr>\n",
       "      <th>count</th>\n",
       "      <td>437.000000</td>\n",
       "      <td>437.000000</td>\n",
       "      <td>437.000000</td>\n",
       "      <td>205.000000</td>\n",
       "      <td>437.000000</td>\n",
       "      <td>437.000000</td>\n",
       "      <td>0.0</td>\n",
       "      <td>437.000000</td>\n",
       "    </tr>\n",
       "    <tr>\n",
       "      <th>mean</th>\n",
       "      <td>219.000000</td>\n",
       "      <td>24652.173913</td>\n",
       "      <td>4.442792</td>\n",
       "      <td>82.609756</td>\n",
       "      <td>-7.095438</td>\n",
       "      <td>109.160142</td>\n",
       "      <td>NaN</td>\n",
       "      <td>219.000000</td>\n",
       "    </tr>\n",
       "    <tr>\n",
       "      <th>std</th>\n",
       "      <td>126.295289</td>\n",
       "      <td>66446.374709</td>\n",
       "      <td>0.208587</td>\n",
       "      <td>52.872339</td>\n",
       "      <td>0.727241</td>\n",
       "      <td>1.962848</td>\n",
       "      <td>NaN</td>\n",
       "      <td>126.295289</td>\n",
       "    </tr>\n",
       "    <tr>\n",
       "      <th>min</th>\n",
       "      <td>1.000000</td>\n",
       "      <td>0.000000</td>\n",
       "      <td>3.400000</td>\n",
       "      <td>10.000000</td>\n",
       "      <td>-8.197894</td>\n",
       "      <td>103.931398</td>\n",
       "      <td>NaN</td>\n",
       "      <td>1.000000</td>\n",
       "    </tr>\n",
       "    <tr>\n",
       "      <th>25%</th>\n",
       "      <td>110.000000</td>\n",
       "      <td>0.000000</td>\n",
       "      <td>4.300000</td>\n",
       "      <td>45.000000</td>\n",
       "      <td>-7.749590</td>\n",
       "      <td>107.578369</td>\n",
       "      <td>NaN</td>\n",
       "      <td>110.000000</td>\n",
       "    </tr>\n",
       "    <tr>\n",
       "      <th>50%</th>\n",
       "      <td>219.000000</td>\n",
       "      <td>5000.000000</td>\n",
       "      <td>4.500000</td>\n",
       "      <td>60.000000</td>\n",
       "      <td>-7.020524</td>\n",
       "      <td>110.237468</td>\n",
       "      <td>NaN</td>\n",
       "      <td>219.000000</td>\n",
       "    </tr>\n",
       "    <tr>\n",
       "      <th>75%</th>\n",
       "      <td>328.000000</td>\n",
       "      <td>20000.000000</td>\n",
       "      <td>4.600000</td>\n",
       "      <td>120.000000</td>\n",
       "      <td>-6.829411</td>\n",
       "      <td>110.431869</td>\n",
       "      <td>NaN</td>\n",
       "      <td>328.000000</td>\n",
       "    </tr>\n",
       "    <tr>\n",
       "      <th>max</th>\n",
       "      <td>437.000000</td>\n",
       "      <td>900000.000000</td>\n",
       "      <td>5.000000</td>\n",
       "      <td>360.000000</td>\n",
       "      <td>1.078880</td>\n",
       "      <td>112.821662</td>\n",
       "      <td>NaN</td>\n",
       "      <td>437.000000</td>\n",
       "    </tr>\n",
       "  </tbody>\n",
       "</table>\n",
       "</div>"
      ],
      "text/plain": [
       "         Place_Id          Price      Rating  Time_Minutes         Lat  \\\n",
       "count  437.000000     437.000000  437.000000    205.000000  437.000000   \n",
       "mean   219.000000   24652.173913    4.442792     82.609756   -7.095438   \n",
       "std    126.295289   66446.374709    0.208587     52.872339    0.727241   \n",
       "min      1.000000       0.000000    3.400000     10.000000   -8.197894   \n",
       "25%    110.000000       0.000000    4.300000     45.000000   -7.749590   \n",
       "50%    219.000000    5000.000000    4.500000     60.000000   -7.020524   \n",
       "75%    328.000000   20000.000000    4.600000    120.000000   -6.829411   \n",
       "max    437.000000  900000.000000    5.000000    360.000000    1.078880   \n",
       "\n",
       "             Long  Unnamed: 11  Unnamed: 12  \n",
       "count  437.000000          0.0   437.000000  \n",
       "mean   109.160142          NaN   219.000000  \n",
       "std      1.962848          NaN   126.295289  \n",
       "min    103.931398          NaN     1.000000  \n",
       "25%    107.578369          NaN   110.000000  \n",
       "50%    110.237468          NaN   219.000000  \n",
       "75%    110.431869          NaN   328.000000  \n",
       "max    112.821662          NaN   437.000000  "
      ]
     },
     "execution_count": 15,
     "metadata": {},
     "output_type": "execute_result"
    }
   ],
   "source": [
    "print(\"Jumlah duplikasi: \", tourId_df.duplicated().sum())\n",
    "tourId_df.describe()"
   ]
  },
  {
   "cell_type": "code",
   "execution_count": 16,
   "metadata": {},
   "outputs": [
    {
     "data": {
      "text/html": [
       "<div>\n",
       "<style scoped>\n",
       "    .dataframe tbody tr th:only-of-type {\n",
       "        vertical-align: middle;\n",
       "    }\n",
       "\n",
       "    .dataframe tbody tr th {\n",
       "        vertical-align: top;\n",
       "    }\n",
       "\n",
       "    .dataframe thead th {\n",
       "        text-align: right;\n",
       "    }\n",
       "</style>\n",
       "<table border=\"1\" class=\"dataframe\">\n",
       "  <thead>\n",
       "    <tr style=\"text-align: right;\">\n",
       "      <th></th>\n",
       "      <th>User_Id</th>\n",
       "      <th>Location</th>\n",
       "      <th>Age</th>\n",
       "    </tr>\n",
       "  </thead>\n",
       "  <tbody>\n",
       "    <tr>\n",
       "      <th>0</th>\n",
       "      <td>1</td>\n",
       "      <td>Semarang, Jawa Tengah</td>\n",
       "      <td>20</td>\n",
       "    </tr>\n",
       "    <tr>\n",
       "      <th>1</th>\n",
       "      <td>2</td>\n",
       "      <td>Bekasi, Jawa Barat</td>\n",
       "      <td>21</td>\n",
       "    </tr>\n",
       "    <tr>\n",
       "      <th>2</th>\n",
       "      <td>3</td>\n",
       "      <td>Cirebon, Jawa Barat</td>\n",
       "      <td>23</td>\n",
       "    </tr>\n",
       "    <tr>\n",
       "      <th>3</th>\n",
       "      <td>4</td>\n",
       "      <td>Bekasi, Jawa Barat</td>\n",
       "      <td>21</td>\n",
       "    </tr>\n",
       "    <tr>\n",
       "      <th>4</th>\n",
       "      <td>5</td>\n",
       "      <td>Lampung, Sumatera Selatan</td>\n",
       "      <td>20</td>\n",
       "    </tr>\n",
       "  </tbody>\n",
       "</table>\n",
       "</div>"
      ],
      "text/plain": [
       "   User_Id                   Location  Age\n",
       "0        1      Semarang, Jawa Tengah   20\n",
       "1        2         Bekasi, Jawa Barat   21\n",
       "2        3        Cirebon, Jawa Barat   23\n",
       "3        4         Bekasi, Jawa Barat   21\n",
       "4        5  Lampung, Sumatera Selatan   20"
      ]
     },
     "execution_count": 16,
     "metadata": {},
     "output_type": "execute_result"
    }
   ],
   "source": [
    "user_df.head()"
   ]
  },
  {
   "cell_type": "code",
   "execution_count": 17,
   "metadata": {},
   "outputs": [
    {
     "name": "stdout",
     "output_type": "stream",
     "text": [
      "<class 'pandas.core.frame.DataFrame'>\n",
      "RangeIndex: 300 entries, 0 to 299\n",
      "Data columns (total 3 columns):\n",
      " #   Column    Non-Null Count  Dtype \n",
      "---  ------    --------------  ----- \n",
      " 0   User_Id   300 non-null    int64 \n",
      " 1   Location  300 non-null    object\n",
      " 2   Age       300 non-null    int64 \n",
      "dtypes: int64(2), object(1)\n",
      "memory usage: 7.2+ KB\n"
     ]
    }
   ],
   "source": [
    "user_df.info()"
   ]
  },
  {
   "cell_type": "markdown",
   "metadata": {},
   "source": [
    "Checking missing value in user_df"
   ]
  },
  {
   "cell_type": "code",
   "execution_count": 18,
   "metadata": {},
   "outputs": [
    {
     "data": {
      "text/plain": [
       "User_Id     0\n",
       "Location    0\n",
       "Age         0\n",
       "dtype: int64"
      ]
     },
     "execution_count": 18,
     "metadata": {},
     "output_type": "execute_result"
    }
   ],
   "source": [
    "user_df.isna().sum()"
   ]
  },
  {
   "cell_type": "code",
   "execution_count": 19,
   "metadata": {},
   "outputs": [
    {
     "name": "stdout",
     "output_type": "stream",
     "text": [
      "Jumlah duplikasi:  0\n"
     ]
    },
    {
     "data": {
      "text/html": [
       "<div>\n",
       "<style scoped>\n",
       "    .dataframe tbody tr th:only-of-type {\n",
       "        vertical-align: middle;\n",
       "    }\n",
       "\n",
       "    .dataframe tbody tr th {\n",
       "        vertical-align: top;\n",
       "    }\n",
       "\n",
       "    .dataframe thead th {\n",
       "        text-align: right;\n",
       "    }\n",
       "</style>\n",
       "<table border=\"1\" class=\"dataframe\">\n",
       "  <thead>\n",
       "    <tr style=\"text-align: right;\">\n",
       "      <th></th>\n",
       "      <th>User_Id</th>\n",
       "      <th>Age</th>\n",
       "    </tr>\n",
       "  </thead>\n",
       "  <tbody>\n",
       "    <tr>\n",
       "      <th>count</th>\n",
       "      <td>300.000000</td>\n",
       "      <td>300.000000</td>\n",
       "    </tr>\n",
       "    <tr>\n",
       "      <th>mean</th>\n",
       "      <td>150.500000</td>\n",
       "      <td>28.700000</td>\n",
       "    </tr>\n",
       "    <tr>\n",
       "      <th>std</th>\n",
       "      <td>86.746758</td>\n",
       "      <td>6.393716</td>\n",
       "    </tr>\n",
       "    <tr>\n",
       "      <th>min</th>\n",
       "      <td>1.000000</td>\n",
       "      <td>18.000000</td>\n",
       "    </tr>\n",
       "    <tr>\n",
       "      <th>25%</th>\n",
       "      <td>75.750000</td>\n",
       "      <td>24.000000</td>\n",
       "    </tr>\n",
       "    <tr>\n",
       "      <th>50%</th>\n",
       "      <td>150.500000</td>\n",
       "      <td>29.000000</td>\n",
       "    </tr>\n",
       "    <tr>\n",
       "      <th>75%</th>\n",
       "      <td>225.250000</td>\n",
       "      <td>34.000000</td>\n",
       "    </tr>\n",
       "    <tr>\n",
       "      <th>max</th>\n",
       "      <td>300.000000</td>\n",
       "      <td>40.000000</td>\n",
       "    </tr>\n",
       "  </tbody>\n",
       "</table>\n",
       "</div>"
      ],
      "text/plain": [
       "          User_Id         Age\n",
       "count  300.000000  300.000000\n",
       "mean   150.500000   28.700000\n",
       "std     86.746758    6.393716\n",
       "min      1.000000   18.000000\n",
       "25%     75.750000   24.000000\n",
       "50%    150.500000   29.000000\n",
       "75%    225.250000   34.000000\n",
       "max    300.000000   40.000000"
      ]
     },
     "execution_count": 19,
     "metadata": {},
     "output_type": "execute_result"
    }
   ],
   "source": [
    "print(\"Jumlah duplikasi: \", user_df.duplicated().sum())\n",
    "user_df.describe()"
   ]
  },
  {
   "cell_type": "markdown",
   "metadata": {},
   "source": [
    "# Data Wrangling:\n",
    "### Cleaning Data"
   ]
  },
  {
   "cell_type": "markdown",
   "metadata": {},
   "source": [
    "Drop the column unnamed: 11 and 12 in tourId_df and Time_Minutes (unnecessary)"
   ]
  },
  {
   "cell_type": "code",
   "execution_count": 20,
   "metadata": {},
   "outputs": [
    {
     "name": "stdout",
     "output_type": "stream",
     "text": [
      "<class 'pandas.core.frame.DataFrame'>\n",
      "RangeIndex: 437 entries, 0 to 436\n",
      "Data columns (total 10 columns):\n",
      " #   Column       Non-Null Count  Dtype  \n",
      "---  ------       --------------  -----  \n",
      " 0   Place_Id     437 non-null    int64  \n",
      " 1   Place_Name   437 non-null    object \n",
      " 2   Description  437 non-null    object \n",
      " 3   Category     437 non-null    object \n",
      " 4   City         437 non-null    object \n",
      " 5   Price        437 non-null    int64  \n",
      " 6   Rating       437 non-null    float64\n",
      " 7   Coordinate   437 non-null    object \n",
      " 8   Lat          437 non-null    float64\n",
      " 9   Long         437 non-null    float64\n",
      "dtypes: float64(3), int64(2), object(5)\n",
      "memory usage: 34.3+ KB\n"
     ]
    }
   ],
   "source": [
    "tourId_df = tourId_df.drop(columns=['Unnamed: 11', 'Unnamed: 12', 'Time_Minutes'])\n",
    "tourId_df.info()"
   ]
  },
  {
   "cell_type": "code",
   "execution_count": null,
   "metadata": {},
   "outputs": [],
   "source": []
  },
  {
   "cell_type": "code",
   "execution_count": null,
   "metadata": {},
   "outputs": [],
   "source": []
  },
  {
   "cell_type": "markdown",
   "metadata": {},
   "source": [
    "# Exploratory Data Analysis (EDA)"
   ]
  },
  {
   "cell_type": "markdown",
   "metadata": {},
   "source": [
    "Create a new dataframe to specify the Bandung City dataframe (bandung_df)"
   ]
  },
  {
   "cell_type": "code",
   "execution_count": 21,
   "metadata": {},
   "outputs": [
    {
     "data": {
      "text/html": [
       "<div>\n",
       "<style scoped>\n",
       "    .dataframe tbody tr th:only-of-type {\n",
       "        vertical-align: middle;\n",
       "    }\n",
       "\n",
       "    .dataframe tbody tr th {\n",
       "        vertical-align: top;\n",
       "    }\n",
       "\n",
       "    .dataframe thead th {\n",
       "        text-align: right;\n",
       "    }\n",
       "</style>\n",
       "<table border=\"1\" class=\"dataframe\">\n",
       "  <thead>\n",
       "    <tr style=\"text-align: right;\">\n",
       "      <th></th>\n",
       "      <th>Place_Id</th>\n",
       "      <th>Place_Name</th>\n",
       "      <th>Description</th>\n",
       "      <th>Category</th>\n",
       "      <th>City</th>\n",
       "      <th>Price</th>\n",
       "      <th>Rating</th>\n",
       "      <th>Coordinate</th>\n",
       "      <th>Lat</th>\n",
       "      <th>Long</th>\n",
       "    </tr>\n",
       "  </thead>\n",
       "  <tbody>\n",
       "    <tr>\n",
       "      <th>210</th>\n",
       "      <td>211</td>\n",
       "      <td>GunungTangkuban perahu</td>\n",
       "      <td>Gunung Tangkuban Parahu adalah salah satu gunu...</td>\n",
       "      <td>Cagar Alam</td>\n",
       "      <td>Bandung</td>\n",
       "      <td>30000</td>\n",
       "      <td>4.5</td>\n",
       "      <td>{'lat': -6.759637700000001, 'lng': 107.6097807}</td>\n",
       "      <td>-6.759638</td>\n",
       "      <td>107.609781</td>\n",
       "    </tr>\n",
       "    <tr>\n",
       "      <th>211</th>\n",
       "      <td>212</td>\n",
       "      <td>Jalan Braga</td>\n",
       "      <td>Jalan Braga adalah nama sebuah jalan utama di ...</td>\n",
       "      <td>Budaya</td>\n",
       "      <td>Bandung</td>\n",
       "      <td>0</td>\n",
       "      <td>4.7</td>\n",
       "      <td>{'lat': -6.9150534, 'lng': 107.6089842}</td>\n",
       "      <td>-6.915053</td>\n",
       "      <td>107.608984</td>\n",
       "    </tr>\n",
       "    <tr>\n",
       "      <th>212</th>\n",
       "      <td>213</td>\n",
       "      <td>Gedung Sate</td>\n",
       "      <td>Gedung Sate, dengan ciri khasnya berupa orname...</td>\n",
       "      <td>Budaya</td>\n",
       "      <td>Bandung</td>\n",
       "      <td>5000</td>\n",
       "      <td>4.6</td>\n",
       "      <td>{'lat': -6.9024812, 'lng': 107.61881}</td>\n",
       "      <td>-6.902481</td>\n",
       "      <td>107.618810</td>\n",
       "    </tr>\n",
       "    <tr>\n",
       "      <th>213</th>\n",
       "      <td>214</td>\n",
       "      <td>Trans Studio Bandung</td>\n",
       "      <td>Trans Studio Bandung adalah kawasan wisata ter...</td>\n",
       "      <td>Taman Hiburan</td>\n",
       "      <td>Bandung</td>\n",
       "      <td>280000</td>\n",
       "      <td>4.5</td>\n",
       "      <td>{'lat': -6.9250943, 'lng': 107.6364944}</td>\n",
       "      <td>-6.925094</td>\n",
       "      <td>107.636494</td>\n",
       "    </tr>\n",
       "    <tr>\n",
       "      <th>214</th>\n",
       "      <td>215</td>\n",
       "      <td>Taman Hutan Raya Ir. H. Djuanda</td>\n",
       "      <td>Taman Hutan Raya Ir. H. Djuanda (Tahura Djuand...</td>\n",
       "      <td>Cagar Alam</td>\n",
       "      <td>Bandung</td>\n",
       "      <td>15000</td>\n",
       "      <td>4.5</td>\n",
       "      <td>{'lat': -6.8565791, 'lng': 107.6323734}</td>\n",
       "      <td>-6.856579</td>\n",
       "      <td>107.632373</td>\n",
       "    </tr>\n",
       "  </tbody>\n",
       "</table>\n",
       "</div>"
      ],
      "text/plain": [
       "     Place_Id                       Place_Name  \\\n",
       "210       211           GunungTangkuban perahu   \n",
       "211       212                      Jalan Braga   \n",
       "212       213                      Gedung Sate   \n",
       "213       214             Trans Studio Bandung   \n",
       "214       215  Taman Hutan Raya Ir. H. Djuanda   \n",
       "\n",
       "                                           Description       Category  \\\n",
       "210  Gunung Tangkuban Parahu adalah salah satu gunu...     Cagar Alam   \n",
       "211  Jalan Braga adalah nama sebuah jalan utama di ...         Budaya   \n",
       "212  Gedung Sate, dengan ciri khasnya berupa orname...         Budaya   \n",
       "213  Trans Studio Bandung adalah kawasan wisata ter...  Taman Hiburan   \n",
       "214  Taman Hutan Raya Ir. H. Djuanda (Tahura Djuand...     Cagar Alam   \n",
       "\n",
       "        City   Price  Rating                                       Coordinate  \\\n",
       "210  Bandung   30000     4.5  {'lat': -6.759637700000001, 'lng': 107.6097807}   \n",
       "211  Bandung       0     4.7          {'lat': -6.9150534, 'lng': 107.6089842}   \n",
       "212  Bandung    5000     4.6            {'lat': -6.9024812, 'lng': 107.61881}   \n",
       "213  Bandung  280000     4.5          {'lat': -6.9250943, 'lng': 107.6364944}   \n",
       "214  Bandung   15000     4.5          {'lat': -6.8565791, 'lng': 107.6323734}   \n",
       "\n",
       "          Lat        Long  \n",
       "210 -6.759638  107.609781  \n",
       "211 -6.915053  107.608984  \n",
       "212 -6.902481  107.618810  \n",
       "213 -6.925094  107.636494  \n",
       "214 -6.856579  107.632373  "
      ]
     },
     "execution_count": 21,
     "metadata": {},
     "output_type": "execute_result"
    }
   ],
   "source": [
    "bandung_df = tourId_df[tourId_df['City']=='Bandung']\n",
    "bandung_df.head()"
   ]
  },
  {
   "cell_type": "markdown",
   "metadata": {},
   "source": [
    "Create a new dataframe to specify the Bandung City Place Rating dataframe (rateBDG_df)"
   ]
  },
  {
   "cell_type": "code",
   "execution_count": 23,
   "metadata": {},
   "outputs": [
    {
     "data": {
      "text/html": [
       "<div>\n",
       "<style scoped>\n",
       "    .dataframe tbody tr th:only-of-type {\n",
       "        vertical-align: middle;\n",
       "    }\n",
       "\n",
       "    .dataframe tbody tr th {\n",
       "        vertical-align: top;\n",
       "    }\n",
       "\n",
       "    .dataframe thead th {\n",
       "        text-align: right;\n",
       "    }\n",
       "</style>\n",
       "<table border=\"1\" class=\"dataframe\">\n",
       "  <thead>\n",
       "    <tr style=\"text-align: right;\">\n",
       "      <th></th>\n",
       "      <th>User_Id</th>\n",
       "      <th>Place_Id</th>\n",
       "      <th>Place_Ratings</th>\n",
       "    </tr>\n",
       "  </thead>\n",
       "  <tbody>\n",
       "    <tr>\n",
       "      <th>5</th>\n",
       "      <td>1</td>\n",
       "      <td>312</td>\n",
       "      <td>2</td>\n",
       "    </tr>\n",
       "    <tr>\n",
       "      <th>6</th>\n",
       "      <td>1</td>\n",
       "      <td>258</td>\n",
       "      <td>5</td>\n",
       "    </tr>\n",
       "    <tr>\n",
       "      <th>17</th>\n",
       "      <td>1</td>\n",
       "      <td>292</td>\n",
       "      <td>3</td>\n",
       "    </tr>\n",
       "    <tr>\n",
       "      <th>18</th>\n",
       "      <td>1</td>\n",
       "      <td>222</td>\n",
       "      <td>3</td>\n",
       "    </tr>\n",
       "    <tr>\n",
       "      <th>22</th>\n",
       "      <td>1</td>\n",
       "      <td>246</td>\n",
       "      <td>4</td>\n",
       "    </tr>\n",
       "    <tr>\n",
       "      <th>...</th>\n",
       "      <td>...</td>\n",
       "      <td>...</td>\n",
       "      <td>...</td>\n",
       "    </tr>\n",
       "    <tr>\n",
       "      <th>9984</th>\n",
       "      <td>300</td>\n",
       "      <td>324</td>\n",
       "      <td>3</td>\n",
       "    </tr>\n",
       "    <tr>\n",
       "      <th>9986</th>\n",
       "      <td>300</td>\n",
       "      <td>323</td>\n",
       "      <td>1</td>\n",
       "    </tr>\n",
       "    <tr>\n",
       "      <th>9990</th>\n",
       "      <td>300</td>\n",
       "      <td>255</td>\n",
       "      <td>4</td>\n",
       "    </tr>\n",
       "    <tr>\n",
       "      <th>9997</th>\n",
       "      <td>300</td>\n",
       "      <td>311</td>\n",
       "      <td>3</td>\n",
       "    </tr>\n",
       "    <tr>\n",
       "      <th>9998</th>\n",
       "      <td>300</td>\n",
       "      <td>279</td>\n",
       "      <td>4</td>\n",
       "    </tr>\n",
       "  </tbody>\n",
       "</table>\n",
       "<p>2842 rows × 3 columns</p>\n",
       "</div>"
      ],
      "text/plain": [
       "      User_Id  Place_Id  Place_Ratings\n",
       "5           1       312              2\n",
       "6           1       258              5\n",
       "17          1       292              3\n",
       "18          1       222              3\n",
       "22          1       246              4\n",
       "...       ...       ...            ...\n",
       "9984      300       324              3\n",
       "9986      300       323              1\n",
       "9990      300       255              4\n",
       "9997      300       311              3\n",
       "9998      300       279              4\n",
       "\n",
       "[2842 rows x 3 columns]"
      ]
     },
     "execution_count": 23,
     "metadata": {},
     "output_type": "execute_result"
    }
   ],
   "source": [
    "rateBDG_df = rating_df[(rating_df['Place_Id'] >= 211) & (rating_df['Place_Id'] <= 334)]\n",
    "rateBDG_df"
   ]
  },
  {
   "cell_type": "markdown",
   "metadata": {},
   "source": [
    "Create a new dataframe to specify the Median of Bandung City Place Rating dataframe (rateBDGMed_df)"
   ]
  },
  {
   "cell_type": "code",
   "execution_count": 24,
   "metadata": {},
   "outputs": [
    {
     "data": {
      "text/html": [
       "<div>\n",
       "<style scoped>\n",
       "    .dataframe tbody tr th:only-of-type {\n",
       "        vertical-align: middle;\n",
       "    }\n",
       "\n",
       "    .dataframe tbody tr th {\n",
       "        vertical-align: top;\n",
       "    }\n",
       "\n",
       "    .dataframe thead th {\n",
       "        text-align: right;\n",
       "    }\n",
       "</style>\n",
       "<table border=\"1\" class=\"dataframe\">\n",
       "  <thead>\n",
       "    <tr style=\"text-align: right;\">\n",
       "      <th></th>\n",
       "      <th>Place_Id</th>\n",
       "      <th>Place_Ratings</th>\n",
       "    </tr>\n",
       "  </thead>\n",
       "  <tbody>\n",
       "    <tr>\n",
       "      <th>0</th>\n",
       "      <td>211</td>\n",
       "      <td>3.0</td>\n",
       "    </tr>\n",
       "    <tr>\n",
       "      <th>1</th>\n",
       "      <td>212</td>\n",
       "      <td>3.0</td>\n",
       "    </tr>\n",
       "    <tr>\n",
       "      <th>2</th>\n",
       "      <td>213</td>\n",
       "      <td>3.0</td>\n",
       "    </tr>\n",
       "    <tr>\n",
       "      <th>3</th>\n",
       "      <td>214</td>\n",
       "      <td>3.5</td>\n",
       "    </tr>\n",
       "    <tr>\n",
       "      <th>4</th>\n",
       "      <td>215</td>\n",
       "      <td>3.0</td>\n",
       "    </tr>\n",
       "    <tr>\n",
       "      <th>...</th>\n",
       "      <td>...</td>\n",
       "      <td>...</td>\n",
       "    </tr>\n",
       "    <tr>\n",
       "      <th>119</th>\n",
       "      <td>330</td>\n",
       "      <td>3.0</td>\n",
       "    </tr>\n",
       "    <tr>\n",
       "      <th>120</th>\n",
       "      <td>331</td>\n",
       "      <td>3.0</td>\n",
       "    </tr>\n",
       "    <tr>\n",
       "      <th>121</th>\n",
       "      <td>332</td>\n",
       "      <td>4.0</td>\n",
       "    </tr>\n",
       "    <tr>\n",
       "      <th>122</th>\n",
       "      <td>333</td>\n",
       "      <td>4.0</td>\n",
       "    </tr>\n",
       "    <tr>\n",
       "      <th>123</th>\n",
       "      <td>334</td>\n",
       "      <td>3.0</td>\n",
       "    </tr>\n",
       "  </tbody>\n",
       "</table>\n",
       "<p>124 rows × 2 columns</p>\n",
       "</div>"
      ],
      "text/plain": [
       "     Place_Id  Place_Ratings\n",
       "0         211            3.0\n",
       "1         212            3.0\n",
       "2         213            3.0\n",
       "3         214            3.5\n",
       "4         215            3.0\n",
       "..        ...            ...\n",
       "119       330            3.0\n",
       "120       331            3.0\n",
       "121       332            4.0\n",
       "122       333            4.0\n",
       "123       334            3.0\n",
       "\n",
       "[124 rows x 2 columns]"
      ]
     },
     "execution_count": 24,
     "metadata": {},
     "output_type": "execute_result"
    }
   ],
   "source": [
    "rateBDGMed_df = rateBDG_df.groupby(['Place_Id'])['Place_Ratings'].median().reset_index()\n",
    "rateBDGMed_df"
   ]
  },
  {
   "cell_type": "markdown",
   "metadata": {},
   "source": [
    "# Visualization"
   ]
  },
  {
   "cell_type": "code",
   "execution_count": 25,
   "metadata": {},
   "outputs": [
    {
     "data": {
      "image/png": "[encoded data removed]",
      "text/plain": [
       "<Figure size 1000x500 with 1 Axes>"
      ]
     },
     "metadata": {},
     "output_type": "display_data"
    }
   ],
   "source": [
    "import matplotlib.pyplot as plt\n",
    "import seaborn as sns\n",
    "\n",
    "# Set the plot size\n",
    "#plt.figure(figsize=(10, 6))\n",
    "\n",
    "\n",
    "# Set the plot title and labels\n",
    "#plt.title(\"Number of Tourist Places per Package\")\n",
    "#plt.xlabel(\"Number of Tourist Places\")\n",
    "#plt.ylabel(\"Count\")\n",
    "\n",
    "# Show the plot\n",
    "#plt.show()\n",
    "\n",
    "# Set the plot size\n",
    "plt.figure(figsize=(10, 5))\n",
    "\n",
    "# Create a box plot of the total length of tourist place names\n",
    "sns.scatterplot(x=\"Category\",y='Price', data=bandung_df)\n",
    "\n",
    "# Set the plot title and labels\n",
    "plt.title(\"Total Length of Tourist Place Names per City\")\n",
    "plt.xlabel(\"City\")\n",
    "plt.ylabel(\"Total Length\")\n",
    "\n",
    "# Show the plot\n",
    "plt.show()"
   ]
  },
  {
   "cell_type": "code",
   "execution_count": null,
   "metadata": {},
   "outputs": [],
   "source": []
  }
 ],
 "metadata": {
  "kernelspec": {
   "display_name": "main-ml",
   "language": "python",
   "name": "python3"
  },
  "language_info": {
   "codemirror_mode": {
    "name": "ipython",
    "version": 3
   },
   "file_extension": ".py",
   "mimetype": "text/x-python",
   "name": "python",
   "nbconvert_exporter": "python",
   "pygments_lexer": "ipython3",
   "version": "3.9.19"
  }
 },
 "nbformat": 4,
 "nbformat_minor": 2
}
